{
  "cells": [
    {
      "cell_type": "markdown",
      "metadata": {
        "id": "view-in-github",
        "colab_type": "text"
      },
      "source": [
        "<a href=\"https://colab.research.google.com/github/Vanamnavya/Predicting-Customer-Churn/blob/main/Predicting_customer_churn.ipynb\" target=\"_parent\"><img src=\"https://colab.research.google.com/assets/colab-badge.svg\" alt=\"Open In Colab\"/></a>"
      ]
    },
    {
      "cell_type": "code",
      "execution_count": 8,
      "metadata": {
        "id": "499siBDjasUc"
      },
      "outputs": [],
      "source": [
        "! pip install streamlit -q"
      ]
    },
    {
      "cell_type": "code",
      "execution_count": 9,
      "metadata": {
        "id": "4JWlPokqa6kb",
        "colab": {
          "base_uri": "https://localhost:8080/"
        },
        "outputId": "00f80d47-265e-44b8-b8af-e589310135f9"
      },
      "outputs": [
        {
          "output_type": "stream",
          "name": "stdout",
          "text": [
            "35.185.139.114\n"
          ]
        }
      ],
      "source": [
        "!wget -q -O - ipv4.icanhazip.com"
      ]
    },
    {
      "cell_type": "code",
      "execution_count": 10,
      "metadata": {
        "id": "EwJoCmaQa9yE",
        "colab": {
          "base_uri": "https://localhost:8080/"
        },
        "outputId": "15910bad-06bd-4830-863b-52089e166d2d"
      },
      "outputs": [
        {
          "output_type": "stream",
          "name": "stdout",
          "text": [
            "Overwriting app.py\n"
          ]
        }
      ],
      "source": [
        "%%writefile app.py\n",
        "#Import libraries\n",
        "import streamlit as st\n",
        "import pandas as pd\n",
        "import numpy as np\n",
        "from PIL import Image\n",
        "\n",
        "#load the model from disk\n",
        "import joblib\n",
        "model = joblib.load(r\"/content/drive/MyDrive/notebook/model.sav\")\n",
        "\n",
        "#Import python scripts\n",
        "from preprocessing import preprocess\n",
        "\n",
        "def main():\n",
        "    #Setting Application title\n",
        "    st.title('Telco Customer Churn Prediction App')\n",
        "\n",
        "      #Setting Application description\n",
        "    st.markdown(\"\"\"\n",
        "     :dart:  This Streamlit app is made to predict customer churn in a ficitional telecommunication use case.\n",
        "    The application is functional for both online prediction and batch data prediction. \\n\n",
        "    \"\"\")\n",
        "    st.markdown(\"<h3></h3>\", unsafe_allow_html=True)\n",
        "\n",
        "    #Setting Application sidebar default\n",
        "    image = Image.open('App.jpg')\n",
        "    add_selectbox = st.sidebar.selectbox(\n",
        "\t\"How would you like to predict?\", (\"Online\", \"Batch\"))\n",
        "    st.sidebar.info('This app is created to predict Customer Churn')\n",
        "    st.sidebar.image(image)\n",
        "\n",
        "    if add_selectbox == \"Online\":\n",
        "        st.info(\"Input data below\")\n",
        "        #Based on our optimal features selection\n",
        "        st.subheader(\"Demographic data\")\n",
        "        seniorcitizen = st.selectbox('Senior Citizen:', ('Yes', 'No'))\n",
        "        dependents = st.selectbox('Dependent:', ('Yes', 'No'))\n",
        "\n",
        "\n",
        "        st.subheader(\"Payment data\")\n",
        "        tenure = st.slider('Number of months the customer has stayed with the company', min_value=0, max_value=72, value=0)\n",
        "        contract = st.selectbox('Contract', ('Month-to-month', 'One year', 'Two year'))\n",
        "        paperlessbilling = st.selectbox('Paperless Billing', ('Yes', 'No'))\n",
        "        PaymentMethod = st.selectbox('PaymentMethod',('Electronic check', 'Mailed check', 'Bank transfer (automatic)','Credit card (automatic)'))\n",
        "        monthlycharges = st.number_input('The amount charged to the customer monthly', min_value=0, max_value=150, value=0)\n",
        "        totalcharges = st.number_input('The total amount charged to the customer',min_value=0, max_value=10000, value=0)\n",
        "\n",
        "        st.subheader(\"Services signed up for\")\n",
        "        mutliplelines = st.selectbox(\"Does the customer have multiple lines\",('Yes','No','No phone service'))\n",
        "        phoneservice = st.selectbox('Phone Service:', ('Yes', 'No'))\n",
        "        internetservice = st.selectbox(\"Does the customer have internet service\", ('DSL', 'Fiber optic', 'No'))\n",
        "        onlinesecurity = st.selectbox(\"Does the customer have online security\",('Yes','No','No internet service'))\n",
        "        onlinebackup = st.selectbox(\"Does the customer have online backup\",('Yes','No','No internet service'))\n",
        "        techsupport = st.selectbox(\"Does the customer have technology support\", ('Yes','No','No internet service'))\n",
        "        streamingtv = st.selectbox(\"Does the customer stream TV\", ('Yes','No','No internet service'))\n",
        "        streamingmovies = st.selectbox(\"Does the customer stream movies\", ('Yes','No','No internet service'))\n",
        "\n",
        "        data = {\n",
        "                'SeniorCitizen': seniorcitizen,\n",
        "                'Dependents': dependents,\n",
        "                'tenure':tenure,\n",
        "                'PhoneService': phoneservice,\n",
        "                'MultipleLines': mutliplelines,\n",
        "                'InternetService': internetservice,\n",
        "                'OnlineSecurity': onlinesecurity,\n",
        "                'OnlineBackup': onlinebackup,\n",
        "                'TechSupport': techsupport,\n",
        "                'StreamingTV': streamingtv,\n",
        "                'StreamingMovies': streamingmovies,\n",
        "                'Contract': contract,\n",
        "                'PaperlessBilling': paperlessbilling,\n",
        "                'PaymentMethod':PaymentMethod,\n",
        "                'MonthlyCharges': monthlycharges,\n",
        "                'TotalCharges': totalcharges\n",
        "                }\n",
        "        features_df = pd.DataFrame.from_dict([data])\n",
        "        st.markdown(\"<h3></h3>\", unsafe_allow_html=True)\n",
        "        st.write('Overview of input is shown below')\n",
        "        st.markdown(\"<h3></h3>\", unsafe_allow_html=True)\n",
        "        st.dataframe(features_df)\n",
        "\n",
        "\n",
        "        #Preprocess inputs\n",
        "        preprocess_df = preprocess(features_df, 'Online')\n",
        "\n",
        "        prediction = model.predict(preprocess_df)\n",
        "\n",
        "        if st.button('Predict'):\n",
        "            if prediction == 1:\n",
        "                st.warning('Yes, the customer will terminate the service.')\n",
        "            else:\n",
        "                st.success('No, the customer is happy with Telco Services.')\n",
        "\n",
        "\n",
        "    else:\n",
        "        st.subheader(\"Dataset upload\")\n",
        "        uploaded_file = st.file_uploader(\"Choose a file\")\n",
        "        if uploaded_file is not None:\n",
        "            data = pd.read_csv(uploaded_file)\n",
        "            #Get overview of data\n",
        "            st.write(data.head())\n",
        "            st.markdown(\"<h3></h3>\", unsafe_allow_html=True)\n",
        "            #Preprocess inputs\n",
        "            preprocess_df = preprocess(data, \"Batch\")\n",
        "            if st.button('Predict'):\n",
        "                #Get batch prediction\n",
        "                prediction = model.predict(preprocess_df)\n",
        "                prediction_df = pd.DataFrame(prediction, columns=[\"Predictions\"])\n",
        "                prediction_df = prediction_df.replace({1:'Yes, the customer will terminate the service.',\n",
        "                                                    0:'No, the customer is happy with Telco Services.'})\n",
        "\n",
        "                st.markdown(\"<h3></h3>\", unsafe_allow_html=True)\n",
        "                st.subheader('Prediction')\n",
        "                st.write(prediction_df)\n",
        "\n",
        "if __name__ == '__main__':\n",
        "        main()\n"
      ]
    },
    {
      "cell_type": "code",
      "execution_count": 11,
      "metadata": {
        "id": "7w8NFG2hBZjd",
        "colab": {
          "base_uri": "https://localhost:8080/"
        },
        "outputId": "61757d4b-c8ca-490a-da03-8116ced78dba"
      },
      "outputs": [
        {
          "output_type": "stream",
          "name": "stdout",
          "text": [
            "\u001b[K\u001b[?25h\u001b[37;40mnpm\u001b[0m \u001b[0m\u001b[30;43mWARN\u001b[0m \u001b[0m\u001b[35msaveError\u001b[0m ENOENT: no such file or directory, open '/content/package.json'\n",
            "\u001b[0m\u001b[37;40mnpm\u001b[0m \u001b[0m\u001b[30;43mWARN\u001b[0m \u001b[0m\u001b[35menoent\u001b[0m ENOENT: no such file or directory, open '/content/package.json'\n",
            "\u001b[0m\u001b[37;40mnpm\u001b[0m \u001b[0m\u001b[30;43mWARN\u001b[0m\u001b[35m\u001b[0m content No description\n",
            "\u001b[0m\u001b[37;40mnpm\u001b[0m \u001b[0m\u001b[30;43mWARN\u001b[0m\u001b[35m\u001b[0m content No repository field.\n",
            "\u001b[0m\u001b[37;40mnpm\u001b[0m \u001b[0m\u001b[30;43mWARN\u001b[0m\u001b[35m\u001b[0m content No README data\n",
            "\u001b[0m\u001b[37;40mnpm\u001b[0m \u001b[0m\u001b[30;43mWARN\u001b[0m\u001b[35m\u001b[0m content No license field.\n",
            "\u001b[0m\n",
            "\u001b[K\u001b[?25h+ localtunnel@2.0.2\n",
            "updated 1 package and audited 36 packages in 1.203s\n",
            "\n",
            "3 packages are looking for funding\n",
            "  run `npm fund` for details\n",
            "\n",
            "found 2 \u001b[93mmoderate\u001b[0m severity vulnerabilities\n",
            "  run `npm audit fix` to fix them, or `npm audit` for details\n"
          ]
        }
      ],
      "source": [
        "!npm install localtunnel"
      ]
    },
    {
      "cell_type": "code",
      "execution_count": 12,
      "metadata": {
        "id": "IYkhRHslc4Xi"
      },
      "outputs": [],
      "source": [
        "!streamlit run app.py &>/content/logs.txt &\n",
        "import pandas as pd\n",
        "from sklearn.preprocessing import MinMaxScaler\n",
        "\n",
        "def preprocess(df, option):\n",
        "    \"\"\"\n",
        "    This function is to cover all the preprocessing steps on the churn dataframe. It involves selecting important features, encoding categorical data, handling missing values,feature scaling and splitting the data\n",
        "    \"\"\"\n",
        "    #Defining the map function\n",
        "    def binary_map(feature):\n",
        "        return feature.map({'Yes':1, 'No':0})\n",
        "\n",
        "    # Encode binary categorical features\n",
        "    binary_list = ['SeniorCitizen','Dependents', 'PhoneService', 'PaperlessBilling']\n",
        "    df[binary_list] = df[binary_list].apply(binary_map)\n",
        "\n",
        "\n",
        "    #Drop values based on operational options\n",
        "    if (option == \"Online\"):\n",
        "        columns = ['SeniorCitizen', 'Dependents', 'tenure', 'PhoneService', 'PaperlessBilling', 'MonthlyCharges', 'TotalCharges', 'MultipleLines_No_phone_service', 'MultipleLines_Yes', 'InternetService_Fiber_optic', 'InternetService_No', 'OnlineSecurity_No_internet_service', 'OnlineSecurity_Yes', 'OnlineBackup_No_internet_service', 'TechSupport_No_internet_service', 'TechSupport_Yes', 'StreamingTV_No_internet_service', 'StreamingTV_Yes', 'StreamingMovies_No_internet_service', 'StreamingMovies_Yes', 'Contract_One_year', 'Contract_Two_year', 'PaymentMethod_Electronic_check']\n",
        "        #Encoding the other categorical categoric features with more than two categories\n",
        "        df = pd.get_dummies(df).reindex(columns=columns, fill_value=0)\n",
        "    elif (option == \"Batch\"):\n",
        "        pass\n",
        "        df = df[['SeniorCitizen','Dependents','tenure','PhoneService','MultipleLines','InternetService','OnlineSecurity',\n",
        "                'OnlineBackup','TechSupport','StreamingTV','StreamingMovies','Contract','PaperlessBilling','PaymentMethod',\n",
        "                'MonthlyCharges','TotalCharges']]\n",
        "        columns = ['SeniorCitizen', 'Dependents', 'tenure', 'PhoneService', 'PaperlessBilling', 'MonthlyCharges', 'TotalCharges', 'MultipleLines_No_phone_service', 'MultipleLines_Yes', 'InternetService_Fiber_optic', 'InternetService_No', 'OnlineSecurity_No_internet_service', 'OnlineSecurity_Yes', 'OnlineBackup_No_internet_service', 'TechSupport_No_internet_service', 'TechSupport_Yes', 'StreamingTV_No_internet_service', 'StreamingTV_Yes', 'StreamingMovies_No_internet_service', 'StreamingMovies_Yes', 'Contract_One_year', 'Contract_Two_year', 'PaymentMethod_Electronic_check']\n",
        "        #Encoding the other categorical categoric features with more than two categories\n",
        "        df = pd.get_dummies(df).reindex(columns=columns, fill_value=0)\n",
        "    else:\n",
        "        print(\"Incorrect operational options\")\n",
        "\n",
        "\n",
        "    #feature scaling\n",
        "    sc = MinMaxScaler()\n",
        "    df['tenure'] = sc.fit_transform(df[['tenure']])\n",
        "    df['MonthlyCharges'] = sc.fit_transform(df[['MonthlyCharges']])\n",
        "    df['TotalCharges'] = sc.fit_transform(df[['TotalCharges']])\n",
        "    return df"
      ]
    },
    {
      "cell_type": "code",
      "execution_count": null,
      "metadata": {
        "colab": {
          "base_uri": "https://localhost:8080/"
        },
        "id": "_bXL2BPFBoQH",
        "outputId": "ce4968d7-c573-4868-c2dd-2c190b2e8632"
      },
      "outputs": [
        {
          "output_type": "stream",
          "name": "stdout",
          "text": [
            "\u001b[K\u001b[?25hnpx: installed 22 in 2.786s\n",
            "your url is: https://fast-oranges-hunt.loca.lt\n"
          ]
        }
      ],
      "source": [
        "!npx localtunnel --port 8501"
      ]
    }
  ],
  "metadata": {
    "colab": {
      "provenance": [],
      "mount_file_id": "1ebt3CALtpVz-i1yICOFVQ2-m_M5CnTZS",
      "authorship_tag": "ABX9TyP/3EI8X1JR1AN1co8FcgDD",
      "include_colab_link": true
    },
    "kernelspec": {
      "display_name": "Python 3",
      "name": "python3"
    },
    "language_info": {
      "name": "python"
    }
  },
  "nbformat": 4,
  "nbformat_minor": 0
}